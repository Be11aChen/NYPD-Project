{
  "nbformat": 4,
  "nbformat_minor": 0,
  "metadata": {
    "colab": {
      "provenance": []
    },
    "kernelspec": {
      "name": "python3",
      "display_name": "Python 3"
    },
    "language_info": {
      "name": "python"
    }
  },
  "cells": [
    {
      "cell_type": "code",
      "source": [
        "#Install pySpark\n",
        "#!pip install pyspark"
      ],
      "metadata": {
        "id": "PJOUUuAQUcT1"
      },
      "execution_count": null,
      "outputs": []
    },
    {
      "cell_type": "code",
      "execution_count": null,
      "metadata": {
        "colab": {
          "base_uri": "https://localhost:8080/"
        },
        "id": "Ot5-7B95CMsv",
        "outputId": "516fb4f1-2ec6-43eb-8bef-40211efd7ad0"
      },
      "outputs": [
        {
          "output_type": "stream",
          "name": "stdout",
          "text": [
            "Authenticated\n"
          ]
        }
      ],
      "source": [
        "#Import necessary libraries\n",
        "import pandas as pd\n",
        "import matplotlib.pyplot as plt\n",
        "from google.cloud import storage\n",
        "\n",
        "#Authenticate User\n",
        "from google.colab import auth\n",
        "auth.authenticate_user()\n",
        "print('Authenticated')\n",
        "\n",
        "# Initialize a GCS client\n",
        "storage_client = storage.Client()\n",
        "\n",
        "# Define bucket and file paths\n",
        "landing_folder_name = 'trusted'\n",
        "input_file_name = 'tested nypd_mv_collisions'\n",
        "output_folder_name = 'models'\n",
        "output_file_name = 'models nypd_mv_collisions'\n",
        "\n",
        "# Read data from the landing folder file\n",
        "landing_bucket = storage_client.bucket('my-project-bucket-bc')\n",
        "landing_blob = landing_bucket.blob(f'{landing_folder_name}/{input_file_name}')\n",
        "local_file_path = '/tmp/input_file.csv'\n",
        "landing_blob.download_to_filename(local_file_path)"
      ]
    },
    {
      "cell_type": "code",
      "source": [
        "df = pd.read_parquet(local_file_path)"
      ],
      "metadata": {
        "id": "eWMIqCySCenb"
      },
      "execution_count": null,
      "outputs": []
    },
    {
      "cell_type": "code",
      "source": [
        "import os\n",
        "\n",
        "os.environ[\"HADOOP_CONF_DIR\"] = \"/usr/local/lib/python3.10/dist-packages/pyspark\"\n",
        "\n",
        "from pyspark.sql import SparkSession\n",
        "\n",
        "# Initialize SparkSession with additional libraries for GCS support\n",
        "spark = SparkSession.builder \\\n",
        "    .appName(\"NYPD Collisions Analysis\") \\\n",
        "    .config(\"spark.hadoop.fs.gs.impl\", \"com.google.cloud.hadoop.fs.gcs.GoogleHadoopFileSystem\") \\\n",
        "    .config(\"spark.hadoop.fs.gs.project.id\", \"my-project-bucket-bc\") \\\n",
        "    .config(\"spark.hadoop.fs.gs.auth.service.account.enable\", \"true\") \\\n",
        "    .config(\"spark.hadoop.google.cloud.auth.service.account.json.keyfile\", \"cis-4130-semester-project-18c39c58bea4.json\") \\\n",
        "    .config(\"spark.hadoop.fs.gs.auth.service.account.json.keyfile\", \"cis-4130-semester-project-18c39c58bea4.json\") \\\n",
        "    .config(\"spark.driver.memory\", \"4g\") \\\n",
        "    .config(\"spark.executor.memory\", \"4g\") \\\n",
        "    .getOrCreate()"
      ],
      "metadata": {
        "id": "Hv8fXjOYClzc"
      },
      "execution_count": null,
      "outputs": []
    },
    {
      "cell_type": "code",
      "source": [
        "spark_df = spark.createDataFrame(df)"
      ],
      "metadata": {
        "id": "dukTc9mFCnhJ"
      },
      "execution_count": null,
      "outputs": []
    },
    {
      "cell_type": "code",
      "source": [
        "# Import some modules needed later on\n",
        "from pyspark.sql.functions import col, isnan, when, count, udf, to_date, year, month, date_format, size, split\n",
        "from pyspark.ml.stat import Correlation\n",
        "from pyspark.ml.feature import VectorAssembler\n",
        "from pyspark.sql.functions import to_timestamp\n",
        "\n",
        "# Convert the timestamp column to an actual timestamp data type, and the other format of time\n",
        "spark_df = spark_df.withColumn('timestamp', to_timestamp(spark_df.timestamp, 'yyyy-MM-dd HH:mm:ss'))\n",
        "spark_df = spark_df.withColumn(\"time_year\", year(\"timestamp\"))\n",
        "spark_df = spark_df.withColumn(\"time_month\", month(\"timestamp\"))\n",
        "spark_df = spark_df.withColumn(\"time_yearmonth\", date_format(\"timestamp\", \"yyyy-MM\"))\n",
        "spark_df = spark_df.withColumn(\"time_dayofweek\", date_format(\"timestamp\", \"E\"))\n",
        "spark_df = spark_df.withColumn(\"time_weekend\", when(spark_df.time_dayofweek == 'Saturday', 1.0)\n",
        "                               .when(spark_df.time_dayofweek == 'Sunday', 1.0)\n",
        "                               .otherwise(0))\n",
        "spark_df.printSchema()"
      ],
      "metadata": {
        "colab": {
          "base_uri": "https://localhost:8080/"
        },
        "id": "hx3lpesoU4mj",
        "outputId": "05b8f1b1-e56d-428d-fd13-8c8a64c141ef"
      },
      "execution_count": null,
      "outputs": [
        {
          "output_type": "stream",
          "name": "stdout",
          "text": [
            "root\n",
            " |-- borough: string (nullable = true)\n",
            " |-- contributing_factor_vehicle_1: string (nullable = true)\n",
            " |-- contributing_factor_vehicle_2: string (nullable = true)\n",
            " |-- contributing_factor_vehicle_3: string (nullable = true)\n",
            " |-- contributing_factor_vehicle_4: string (nullable = true)\n",
            " |-- contributing_factor_vehicle_5: string (nullable = true)\n",
            " |-- cross_street_name: string (nullable = true)\n",
            " |-- timestamp: timestamp (nullable = true)\n",
            " |-- number_of_cyclist_injured: long (nullable = true)\n",
            " |-- number_of_cyclist_killed: long (nullable = true)\n",
            " |-- number_of_motorist_injured: long (nullable = true)\n",
            " |-- number_of_motorist_killed: long (nullable = true)\n",
            " |-- number_of_pedestrians_injured: long (nullable = true)\n",
            " |-- number_of_pedestrians_killed: long (nullable = true)\n",
            " |-- number_of_persons_injured: long (nullable = true)\n",
            " |-- number_of_persons_killed: long (nullable = true)\n",
            " |-- unique_key: long (nullable = true)\n",
            " |-- vehicle_type_code1: string (nullable = true)\n",
            " |-- vehicle_type_code2: string (nullable = true)\n",
            " |-- vehicle_type_code_3: string (nullable = true)\n",
            " |-- vehicle_type_code_4: string (nullable = true)\n",
            " |-- vehicle_type_code_5: string (nullable = true)\n",
            " |-- time_year: integer (nullable = true)\n",
            " |-- time_month: integer (nullable = true)\n",
            " |-- time_yearmonth: string (nullable = true)\n",
            " |-- time_dayofweek: string (nullable = true)\n",
            " |-- time_weekend: double (nullable = false)\n",
            "\n"
          ]
        }
      ]
    },
    {
      "cell_type": "code",
      "source": [
        "columns_info = [(col_name, col_data_type) for col_name, col_data_type in spark_df.dtypes]\n",
        "# Determine feature engineering treatments\n",
        "feature_engineering_treatments = [(col_name, col_data_type, 'Indexer') if str(col_data_type) == 'string' else\n",
        "                                  (col_name, col_data_type, 'Modeler') if str(col_data_type) in ['int', 'DoubleType'] else\n",
        "                                  (col_name, col_data_type, 'Scaler') for col_name, col_data_type in columns_info]\n",
        "# Create a new DataFrame to store the information\n",
        "feature_info_df = spark.createDataFrame(feature_engineering_treatments, [\"Column Name\", \"Column Type\",\"Feature Engineering Treatment\"])\n",
        "\n",
        "# Show the DataFrame\n",
        "feature_info_df.show()\n",
        "\n",
        "# Write the DataFrame to a file on your local desktop\n",
        "#feature_info_df.write.csv('file:///C:/Users/bella/Downloads/feature_info.csv', header=True, mode='overwrite')"
      ],
      "metadata": {
        "colab": {
          "base_uri": "https://localhost:8080/"
        },
        "id": "rALsOVtIVDE4",
        "outputId": "7036e700-34c4-4a01-988d-79cbafd3936d"
      },
      "execution_count": null,
      "outputs": [
        {
          "output_type": "stream",
          "name": "stdout",
          "text": [
            "+--------------------+-----------+-----------------------------+\n",
            "|         Column Name|Column Type|Feature Engineering Treatment|\n",
            "+--------------------+-----------+-----------------------------+\n",
            "|             borough|     string|                      Indexer|\n",
            "|contributing_fact...|     string|                      Indexer|\n",
            "|contributing_fact...|     string|                      Indexer|\n",
            "|contributing_fact...|     string|                      Indexer|\n",
            "|contributing_fact...|     string|                      Indexer|\n",
            "|contributing_fact...|     string|                      Indexer|\n",
            "|   cross_street_name|     string|                      Indexer|\n",
            "|           timestamp|  timestamp|                       Scaler|\n",
            "|number_of_cyclist...|     bigint|                       Scaler|\n",
            "|number_of_cyclist...|     bigint|                       Scaler|\n",
            "|number_of_motoris...|     bigint|                       Scaler|\n",
            "|number_of_motoris...|     bigint|                       Scaler|\n",
            "|number_of_pedestr...|     bigint|                       Scaler|\n",
            "|number_of_pedestr...|     bigint|                       Scaler|\n",
            "|number_of_persons...|     bigint|                       Scaler|\n",
            "|number_of_persons...|     bigint|                       Scaler|\n",
            "|          unique_key|     bigint|                       Scaler|\n",
            "|  vehicle_type_code1|     string|                      Indexer|\n",
            "|  vehicle_type_code2|     string|                      Indexer|\n",
            "| vehicle_type_code_3|     string|                      Indexer|\n",
            "+--------------------+-----------+-----------------------------+\n",
            "only showing top 20 rows\n",
            "\n"
          ]
        }
      ]
    },
    {
      "cell_type": "code",
      "source": [
        "# Use groupby to get a count by date. Then convert to pandas dataframe\n",
        "summary_spark = spark_df.where(col(\"time_year\") > 2020).groupby(\"time_year\").count().sort(\"time_year\")\n",
        "df = summary_spark.toPandas()\n",
        "\n",
        "# df = sdf.where(col(\"order_year\") > 2020).groupby(\"order_date\") \\\n",
        "#           .count().sort(\"order_date\").toPandas()\n",
        "\n",
        "# Using Pandas built-in plotting functions\n",
        "# Create a bar plot using the columns order_date and count\n",
        "myplot = df.plot.bar('time_year','count')\n",
        "# Set the x-axis and y-axis labels\n",
        "myplot.set(xlabel='Date', ylabel='Number of Incidents')\n",
        "# Set the title\n",
        "myplot.set(title='Number of Incidents by Years')\n",
        "myplot.figure.set_tight_layout('tight')\n",
        "# Save the plot as a PNG file\n",
        "#myplot.get_figure().savefig(\"order_count_by_date.png\")"
      ],
      "metadata": {
        "colab": {
          "base_uri": "https://localhost:8080/",
          "height": 487
        },
        "id": "kAhwBauAVO4L",
        "outputId": "ced808c7-5448-49a1-a9fd-d899f4e1d294"
      },
      "execution_count": null,
      "outputs": [
        {
          "output_type": "display_data",
          "data": {
            "text/plain": [
              "<Figure size 640x480 with 1 Axes>"
            ],
            "image/png": "[encoded data removed]"
          },
          "metadata": {}
        }
      ]
    },
    {
      "cell_type": "code",
      "source": [
        "# Save the plot to Google Cloud Storage\n",
        "import io\n",
        "from google.cloud import storage\n",
        "\n",
        "# Create a buffer to hold the figure\n",
        "img_data = io.BytesIO()\n",
        "# Write the figure to the img_data buffer\n",
        "myplot.get_figure().savefig(img_data, format='png', bbox_inches='tight')\n",
        "# Rewind the pointer to the start of the data\n",
        "img_data.seek(0)\n",
        "\n",
        "# Connect to Google Cloud Storage\n",
        "storage_client = storage.Client()\n",
        "# Point to the bucket on Google Cloud Storage (change this to match the name of your bucket)\n",
        "bucket = storage_client.get_bucket('my-project-bucket-bc')\n",
        "\n",
        "folder_path = 'models'\n",
        "file_name = \"Number of Incidents by Years.png\"\n",
        "# Create a blob to hold the data. Give it a file name with the folder path included\n",
        "blob = bucket.blob(f'{folder_path}/{file_name}')\n",
        "\n",
        "# Upload the img_data contents to the blob\n",
        "blob.upload_from_file(img_data)"
      ],
      "metadata": {
        "id": "_PMSvaNaig4z"
      },
      "execution_count": null,
      "outputs": []
    },
    {
      "cell_type": "code",
      "source": [
        "## Show frequency of the 'Borough' column\n",
        "sparks_df_BO = spark_df.groupby('borough').count().sort('borough').toPandas()\n",
        "# Set up a Matplotlib figure\n",
        "fig = plt.figure(facecolor='white')\n",
        "# Bar Plot of borough and count\n",
        "plt.bar(sparks_df_BO['borough'],sparks_df_BO['count'] )\n",
        "# Add a title\n",
        "plt.title(\"Frequency by Borough\")\n",
        "# Save the figure to a local directory\n",
        "#plt.savefig(\"frequency_food_ordered.png\")"
      ],
      "metadata": {
        "colab": {
          "base_uri": "https://localhost:8080/",
          "height": 470
        },
        "id": "njrWkYAgkbup",
        "outputId": "26e486cb-e98e-459e-b336-12f2db03483a"
      },
      "execution_count": null,
      "outputs": [
        {
          "output_type": "execute_result",
          "data": {
            "text/plain": [
              "Text(0.5, 1.0, 'Frequency by Borough')"
            ]
          },
          "metadata": {},
          "execution_count": 10
        },
        {
          "output_type": "display_data",
          "data": {
            "text/plain": [
              "<Figure size 640x480 with 1 Axes>"
            ],
            "image/png": "[encoded data removed]"
          },
          "metadata": {}
        }
      ]
    },
    {
      "cell_type": "code",
      "source": [
        "# Create a buffer to hold the figure\n",
        "img_data = io.BytesIO()\n",
        "# Write the figure to the img_data buffer\n",
        "fig.get_figure().savefig(img_data, format='png', bbox_inches='tight')\n",
        "# Rewind the pointer to the start of the data\n",
        "img_data.seek(0)\n",
        "\n",
        "# Connect to Google Cloud Storage\n",
        "storage_client = storage.Client()\n",
        "# Point to the bucket on Google Cloud Storage (change this to match the name of your bucket)\n",
        "bucket = storage_client.get_bucket('my-project-bucket-bc')\n",
        "\n",
        "folder_path = 'models'\n",
        "file_name = \"Frequency by Borough.png\"\n",
        "# Create a blob to hold the data. Give it a file name with the folder path included\n",
        "blob = bucket.blob(f'{folder_path}/{file_name}')\n",
        "\n",
        "# Upload the img_data contents to the blob\n",
        "blob.upload_from_file(img_data)"
      ],
      "metadata": {
        "id": "F8O_9mTMkz2h"
      },
      "execution_count": null,
      "outputs": []
    }
  ]
}