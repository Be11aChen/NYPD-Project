{
  "nbformat": 4,
  "nbformat_minor": 0,
  "metadata": {
    "colab": {
      "provenance": []
    },
    "kernelspec": {
      "name": "python3",
      "display_name": "Python 3"
    },
    "language_info": {
      "name": "python"
    }
  },
  "cells": [
    {
      "cell_type": "code",
      "source": [
        "#Install Scikit-Learn\n",
        "\n",
        "#!pip install scikit-learn"
      ],
      "metadata": {
        "colab": {
          "base_uri": "https://localhost:8080/"
        },
        "id": "zLrpiDt3EPjU",
        "outputId": "a0ebd8be-6f65-4ac1-e96f-ddc1a3a8c20e"
      },
      "execution_count": null,
      "outputs": [
        {
          "output_type": "stream",
          "name": "stdout",
          "text": [
            "Requirement already satisfied: scikit-learn in /usr/local/lib/python3.10/dist-packages (1.2.2)\n",
            "Requirement already satisfied: numpy>=1.17.3 in /usr/local/lib/python3.10/dist-packages (from scikit-learn) (1.25.2)\n",
            "Requirement already satisfied: scipy>=1.3.2 in /usr/local/lib/python3.10/dist-packages (from scikit-learn) (1.11.4)\n",
            "Requirement already satisfied: joblib>=1.1.1 in /usr/local/lib/python3.10/dist-packages (from scikit-learn) (1.4.2)\n",
            "Requirement already satisfied: threadpoolctl>=2.0.0 in /usr/local/lib/python3.10/dist-packages (from scikit-learn) (3.5.0)\n"
          ]
        }
      ]
    },
    {
      "cell_type": "code",
      "source": [
        "#Install pySpark\n",
        "\n",
        "#!pip install pyspark"
      ],
      "metadata": {
        "colab": {
          "base_uri": "https://localhost:8080/"
        },
        "id": "LP2sg2_oAuER",
        "outputId": "f5d6c175-02f2-40d2-d0f5-e0c482044710"
      },
      "execution_count": null,
      "outputs": [
        {
          "output_type": "stream",
          "name": "stdout",
          "text": [
            "Collecting pyspark\n",
            "  Downloading pyspark-3.5.1.tar.gz (317.0 MB)\n",
            "\u001b[2K     \u001b[90m━━━━━━━━━━━━━━━━━━━━━━━━━━━━━━━━━━━━━━━━\u001b[0m \u001b[32m317.0/317.0 MB\u001b[0m \u001b[31m2.1 MB/s\u001b[0m eta \u001b[36m0:00:00\u001b[0m\n",
            "\u001b[?25h  Preparing metadata (setup.py) ... \u001b[?25l\u001b[?25hdone\n",
            "Requirement already satisfied: py4j==0.10.9.7 in /usr/local/lib/python3.10/dist-packages (from pyspark) (0.10.9.7)\n",
            "Building wheels for collected packages: pyspark\n",
            "  Building wheel for pyspark (setup.py) ... \u001b[?25l\u001b[?25hdone\n",
            "  Created wheel for pyspark: filename=pyspark-3.5.1-py2.py3-none-any.whl size=317488491 sha256=4ebf5e3f10c4daa8c6b75117cddc40b970e3888d2594b14e899e6c8fba3e162d\n",
            "  Stored in directory: /root/.cache/pip/wheels/80/1d/60/2c256ed38dddce2fdd93be545214a63e02fbd8d74fb0b7f3a6\n",
            "Successfully built pyspark\n",
            "Installing collected packages: pyspark\n",
            "Successfully installed pyspark-3.5.1\n"
          ]
        }
      ]
    },
    {
      "cell_type": "code",
      "execution_count": null,
      "metadata": {
        "colab": {
          "base_uri": "https://localhost:8080/"
        },
        "id": "2hW6oO8c_hdw",
        "outputId": "43e75f51-335d-4249-bb69-94251049c99d"
      },
      "outputs": [
        {
          "output_type": "stream",
          "name": "stdout",
          "text": [
            "Authenticated\n"
          ]
        }
      ],
      "source": [
        "#Import necessary libraries\n",
        "import pandas as pd\n",
        "import matplotlib.pyplot as plt\n",
        "from google.cloud import storage\n",
        "\n",
        "#Authenticate User\n",
        "from google.colab import auth\n",
        "auth.authenticate_user()\n",
        "print('Authenticated')\n",
        "\n",
        "# Initialize a GCS client\n",
        "storage_client = storage.Client()\n",
        "\n",
        "# Define bucket and file paths\n",
        "landing_folder_name = 'trusted'\n",
        "input_file_name = 'tested nypd_mv_collisions'\n",
        "output_folder_name = 'models'\n",
        "output_file_name = 'models nypd_mv_collisions'\n",
        "\n",
        "# Read data from the landing folder file\n",
        "landing_bucket = storage_client.bucket('my-project-bucket-bc')\n",
        "landing_blob = landing_bucket.blob(f'{landing_folder_name}/{input_file_name}')\n",
        "local_file_path = '/tmp/input_file.csv'\n",
        "landing_blob.download_to_filename(local_file_path)"
      ]
    },
    {
      "cell_type": "code",
      "source": [
        "df = pd.read_parquet(local_file_path)"
      ],
      "metadata": {
        "id": "S4kSdZQ8AM9J"
      },
      "execution_count": null,
      "outputs": []
    },
    {
      "cell_type": "code",
      "source": [
        "import os\n",
        "\n",
        "os.environ[\"HADOOP_CONF_DIR\"] = \"/usr/local/lib/python3.10/dist-packages/pyspark\"\n",
        "\n",
        "from pyspark.sql import SparkSession\n",
        "\n",
        "# Initialize SparkSession with additional libraries for GCS support\n",
        "spark = SparkSession.builder \\\n",
        "    .appName(\"NYPD Collisions Analysis\") \\\n",
        "    .config(\"spark.hadoop.fs.gs.impl\", \"com.google.cloud.hadoop.fs.gcs.GoogleHadoopFileSystem\") \\\n",
        "    .config(\"spark.hadoop.fs.gs.project.id\", \"my-project-bucket-bc\") \\\n",
        "    .config(\"spark.hadoop.fs.gs.auth.service.account.enable\", \"true\") \\\n",
        "    .config(\"spark.hadoop.google.cloud.auth.service.account.json.keyfile\", \"cis-4130-semester-project-18c39c58bea4.json\") \\\n",
        "    .config(\"spark.hadoop.fs.gs.auth.service.account.json.keyfile\", \"cis-4130-semester-project-18c39c58bea4.json\") \\\n",
        "    .config(\"spark.driver.memory\", \"4g\") \\\n",
        "    .config(\"spark.executor.memory\", \"4g\") \\\n",
        "    .getOrCreate()"
      ],
      "metadata": {
        "id": "7hY0kWVoAOOv"
      },
      "execution_count": null,
      "outputs": []
    },
    {
      "cell_type": "code",
      "source": [
        "spark_df = spark.createDataFrame(df)"
      ],
      "metadata": {
        "id": "jQmvXX16AQuA"
      },
      "execution_count": null,
      "outputs": []
    },
    {
      "cell_type": "code",
      "source": [
        "spark_df.printSchema()"
      ],
      "metadata": {
        "colab": {
          "base_uri": "https://localhost:8080/"
        },
        "id": "nJE0W3S6BAuR",
        "outputId": "e73f40c4-3454-4f71-ccf3-f86c7d9d33ab"
      },
      "execution_count": null,
      "outputs": [
        {
          "output_type": "stream",
          "name": "stdout",
          "text": [
            "root\n",
            " |-- borough: string (nullable = true)\n",
            " |-- contributing_factor_vehicle_1: string (nullable = true)\n",
            " |-- contributing_factor_vehicle_2: string (nullable = true)\n",
            " |-- contributing_factor_vehicle_3: string (nullable = true)\n",
            " |-- contributing_factor_vehicle_4: string (nullable = true)\n",
            " |-- contributing_factor_vehicle_5: string (nullable = true)\n",
            " |-- cross_street_name: string (nullable = true)\n",
            " |-- timestamp: string (nullable = true)\n",
            " |-- number_of_cyclist_injured: long (nullable = true)\n",
            " |-- number_of_cyclist_killed: long (nullable = true)\n",
            " |-- number_of_motorist_injured: long (nullable = true)\n",
            " |-- number_of_motorist_killed: long (nullable = true)\n",
            " |-- number_of_pedestrians_injured: long (nullable = true)\n",
            " |-- number_of_pedestrians_killed: long (nullable = true)\n",
            " |-- number_of_persons_injured: long (nullable = true)\n",
            " |-- number_of_persons_killed: long (nullable = true)\n",
            " |-- unique_key: long (nullable = true)\n",
            " |-- vehicle_type_code1: string (nullable = true)\n",
            " |-- vehicle_type_code2: string (nullable = true)\n",
            " |-- vehicle_type_code_3: string (nullable = true)\n",
            " |-- vehicle_type_code_4: string (nullable = true)\n",
            " |-- vehicle_type_code_5: string (nullable = true)\n",
            "\n"
          ]
        }
      ]
    },
    {
      "cell_type": "code",
      "source": [
        "# Import some modules needed later on\n",
        "from pyspark.sql.functions import col, isnan, when, count, udf, to_date, year, month, date_format, size, split\n",
        "from pyspark.ml.stat import Correlation\n",
        "from pyspark.ml.feature import VectorAssembler\n",
        "from pyspark.sql.functions import to_timestamp\n",
        "\n",
        "# Convert the timestamp column to an actual timestamp data type, and the other format of time\n",
        "spark_df = spark_df.withColumn('timestamp', to_timestamp(spark_df.timestamp, 'yyyy-MM-dd HH:mm:ss'))\n",
        "spark_df = spark_df.withColumn(\"time_year\", year(\"timestamp\"))\n",
        "spark_df = spark_df.withColumn(\"time_month\", month(\"timestamp\"))\n",
        "spark_df = spark_df.withColumn(\"time_yearmonth\", date_format(\"timestamp\", \"yyyy-MM\"))\n",
        "spark_df = spark_df.withColumn(\"time_dayofweek\", date_format(\"timestamp\", \"E\"))\n",
        "spark_df = spark_df.withColumn(\"time_weekend\", when(spark_df.time_dayofweek == 'Saturday', 1.0)\n",
        "                               .when(spark_df.time_dayofweek == 'Sunday', 1.0)\n",
        "                               .otherwise(0))"
      ],
      "metadata": {
        "id": "2j5CI2ahB7bv"
      },
      "execution_count": null,
      "outputs": []
    },
    {
      "cell_type": "code",
      "source": [
        "spark_df.show()"
      ],
      "metadata": {
        "colab": {
          "base_uri": "https://localhost:8080/"
        },
        "id": "-VfbavrfBq2R",
        "outputId": "90d62bd4-a5a4-4693-fe88-60c396357756"
      },
      "execution_count": null,
      "outputs": [
        {
          "output_type": "stream",
          "name": "stdout",
          "text": [
            "+---------+-----------------------------+-----------------------------+-----------------------------+-----------------------------+-----------------------------+--------------------+-------------------+-------------------------+------------------------+--------------------------+-------------------------+-----------------------------+----------------------------+-------------------------+------------------------+----------+--------------------+--------------------+--------------------+--------------------+--------------------+---------+----------+--------------+--------------+------------+\n",
            "|  borough|contributing_factor_vehicle_1|contributing_factor_vehicle_2|contributing_factor_vehicle_3|contributing_factor_vehicle_4|contributing_factor_vehicle_5|   cross_street_name|          timestamp|number_of_cyclist_injured|number_of_cyclist_killed|number_of_motorist_injured|number_of_motorist_killed|number_of_pedestrians_injured|number_of_pedestrians_killed|number_of_persons_injured|number_of_persons_killed|unique_key|  vehicle_type_code1|  vehicle_type_code2| vehicle_type_code_3| vehicle_type_code_4| vehicle_type_code_5|time_year|time_month|time_yearmonth|time_dayofweek|time_weekend|\n",
            "+---------+-----------------------------+-----------------------------+-----------------------------+-----------------------------+-----------------------------+--------------------+-------------------+-------------------------+------------------------+--------------------------+-------------------------+-----------------------------+----------------------------+-------------------------+------------------------+----------+--------------------+--------------------+--------------------+--------------------+--------------------+---------+----------+--------------+--------------+------------+\n",
            "|MANHATTAN|              Fatigued/Drowsy|                  Unspecified|                  Unspecified|                  Unspecified|                  Unspecified|           12 AVENUE|2016-11-07 21:00:00|                        0|                       0|                         2|                        0|                            0|                           0|                        2|                       0|   3556442|           Box Truck|               Sedan|               Sedan|                Taxi|               Sedan|     2016|        11|       2016-11|           Mon|         0.0|\n",
            "|MANHATTAN|                  Unspecified|                  Unspecified|                  Unspecified|                  Unspecified|                  Unspecified|MURRAY STREET    ...|2014-09-02 23:57:00|                        0|                       0|                         2|                        0|                            0|                           0|                        2|                       0|   1017713|                TAXI|   PASSENGER VEHICLE|   PASSENGER VEHICLE|SPORT UTILITY / S...|   PASSENGER VEHICLE|     2014|         9|       2014-09|           Tue|         0.0|\n",
            "|MANHATTAN|                  Unspecified|                  Unspecified|                  Unspecified|                  Unspecified|                  Unspecified|EAST 9 STREET    ...|2015-11-05 04:15:00|                        0|                       0|                         0|                        0|                            0|                           0|                        0|                       0|   3329249|                TAXI|SPORT UTILITY / S...|SPORT UTILITY / S...|   PASSENGER VEHICLE|SPORT UTILITY / S...|     2015|        11|       2015-11|           Thu|         0.0|\n",
            "|MANHATTAN|              Other Vehicular|         Traffic Control D...|         Driver Inattentio...|         Driver Inattentio...|         Driver Inattentio...|              BOWERY|2016-04-01 22:30:00|                        0|                       0|                         0|                        0|                            0|                           0|                        0|                       0|   3406354|          4 dr sedan|          4 dr sedan|          4 dr sedan|          4 dr sedan|          4 dr sedan|     2016|         4|       2016-04|           Fri|         0.0|\n",
            "|MANHATTAN|              Fatigued/Drowsy|                  Unspecified|                  Unspecified|                  Unspecified|                  Unspecified|HUBERT STREET    ...|2015-07-07 15:54:00|                        0|                       0|                         2|                        0|                            0|                           0|                        2|                       0|   3253274|                 BUS|SPORT UTILITY / S...|                TAXI|                TAXI|SPORT UTILITY / S...|     2015|         7|       2015-07|           Tue|         0.0|\n",
            "|MANHATTAN|                 Unsafe Speed|          Alcohol Involvement|                  Unspecified|                  Unspecified|                  Unspecified|       LAIGHT STREET|2018-12-29 07:23:00|                        0|                       0|                         3|                        1|                            0|                           0|                        3|                       1|   4056090|               Sedan|               Sedan|Station Wagon/Spo...|               Sedan|       Pick-up Truck|     2018|        12|       2018-12|           Sat|         0.0|\n",
            "|MANHATTAN|             Brakes Defective|                  Unspecified|                  Unspecified|                  Unspecified|                  Unspecified|         DYER AVENUE|2016-08-27 23:15:00|                        0|                       0|                         2|                        0|                            0|                           0|                        2|                       0|   3508237|                 Bus|               Sedan|               Sedan|               Sedan|               Sedan|     2016|         8|       2016-08|           Sat|         0.0|\n",
            "|MANHATTAN|          Alcohol Involvement|                  Unspecified|                  Unspecified|                  Unspecified|                  Unspecified|7 AVENUE         ...|2012-11-17 06:50:00|                        0|                       0|                         0|                        0|                            0|                           0|                        0|                       0|     63912|SPORT UTILITY / S...|   PASSENGER VEHICLE|   PASSENGER VEHICLE|   PASSENGER VEHICLE|   PASSENGER VEHICLE|     2012|        11|       2012-11|           Sat|         0.0|\n",
            "|MANHATTAN|                  Unspecified|                  Unspecified|                  Unspecified|                  Unspecified|                  Unspecified|BROADWAY         ...|2014-02-23 13:40:00|                        0|                       0|                         3|                        0|                            0|                           0|                        3|                       0|     63557|   PASSENGER VEHICLE|                TAXI|   PASSENGER VEHICLE|                 VAN|                 VAN|     2014|         2|       2014-02|           Sun|         0.0|\n",
            "|MANHATTAN|         Following Too Clo...|                  Unspecified|                  Unspecified|                  Unspecified|                  Unspecified|      MADISON AVENUE|2021-12-11 08:46:00|                        0|                       0|                         1|                        0|                            0|                           0|                        1|                       0|   4485596|Station Wagon/Spo...|Station Wagon/Spo...|Station Wagon/Spo...|Station Wagon/Spo...|Station Wagon/Spo...|     2021|        12|       2021-12|           Sat|         0.0|\n",
            "|MANHATTAN|                  Unspecified|                  Unspecified|                  Unspecified|                  Unspecified|                  Unspecified|MADISON AVENUE   ...|2014-10-17 08:30:00|                        0|                       0|                         5|                        0|                            0|                           0|                        5|                       0|   2809304|SPORT UTILITY / S...|   PASSENGER VEHICLE|   PASSENGER VEHICLE|   PASSENGER VEHICLE|   PASSENGER VEHICLE|     2014|        10|       2014-10|           Fri|         0.0|\n",
            "|MANHATTAN|             Brakes Defective|                  Unspecified|                  Unspecified|                  Unspecified|                  Unspecified|     WEST 136 STREET|2018-04-17 11:10:00|                        0|                       0|                         2|                        0|                            0|                           0|                        2|                       0|   3883144|               Sedan|               Sedan|                Taxi|                Taxi|               Sedan|     2018|         4|       2018-04|           Tue|         0.0|\n",
            "|MANHATTAN|         Driver Inattentio...|                  Unspecified|                  Unspecified|                  Unspecified|                  Unspecified|BROADWAY         ...|2016-02-05 17:13:00|                        0|                       0|                         1|                        0|                            0|                           0|                        1|                       0|   3383983|               OTHER|   PASSENGER VEHICLE|               OTHER|   PASSENGER VEHICLE|   PASSENGER VEHICLE|     2016|         2|       2016-02|           Fri|         0.0|\n",
            "|MANHATTAN|                  Unspecified|                  Unspecified|                  Unspecified|                  Unspecified|                  Unspecified|    WADSWORTH AVENUE|2020-02-01 03:27:00|                        0|                       0|                         1|                        0|                            0|                           0|                        1|                       0|   4283374|               Sedan|               Sedan|               Sedan|               Sedan|               Sedan|     2020|         2|       2020-02|           Sat|         0.0|\n",
            "|MANHATTAN|         Traffic Control D...|         Traffic Control D...|                  Unspecified|                  Unspecified|                  Unspecified|         PARK AVENUE|2021-10-13 07:51:00|                        0|                       0|                         3|                        0|                            0|                           0|                        3|                       0|   4466963|Station Wagon/Spo...|Station Wagon/Spo...|Station Wagon/Spo...|Station Wagon/Spo...|               Sedan|     2021|        10|       2021-10|           Wed|         0.0|\n",
            "|MANHATTAN|                  Unspecified|                  Unspecified|                  Unspecified|                  Unspecified|                  Unspecified|3 AVENUE         ...|2015-10-17 03:37:00|                        0|                       0|                         0|                        0|                            0|                           0|                        0|                       0|   3316807|   PASSENGER VEHICLE|   PASSENGER VEHICLE|SPORT UTILITY / S...|   PASSENGER VEHICLE|   PASSENGER VEHICLE|     2015|        10|       2015-10|           Sat|         0.0|\n",
            "|MANHATTAN|         Traffic Control D...|                  Unspecified|                  Unspecified|                  Unspecified|                  Unspecified|         PARK AVENUE|2020-06-23 16:00:00|                        0|                       0|                         2|                        0|                            0|                           0|                        2|                       0|   4326018|Station Wagon/Spo...|               Sedan|Station Wagon/Spo...|               Sedan|Station Wagon/Spo...|     2020|         6|       2020-06|           Tue|         0.0|\n",
            "|MANHATTAN|         Accelerator Defec...|                  Unspecified|                  Unspecified|                  Unspecified|                  Unspecified|10 AVENUE        ...|2012-10-20 17:45:00|                        0|                       0|                         0|                        0|                            0|                           0|                        0|                       0|     39004|   PASSENGER VEHICLE|SPORT UTILITY / S...|               OTHER|   PASSENGER VEHICLE|SPORT UTILITY / S...|     2012|        10|       2012-10|           Sat|         0.0|\n",
            "|MANHATTAN|         Driver Inattentio...|         Driver Inattentio...|                  Unspecified|                  Unspecified|                  Unspecified|      MADISON AVENUE|2018-02-25 18:45:00|                        0|                       0|                         0|                        0|                            0|                           0|                        0|                       0|   3852302|               Sedan|Station Wagon/Spo...|Station Wagon/Spo...|Station Wagon/Spo...|               Sedan|     2018|         2|       2018-02|           Sun|         0.0|\n",
            "|MANHATTAN|                      Illness|                  Unspecified|                  Unspecified|                  Unspecified|                  Unspecified|BROADWAY         ...|2013-02-18 22:55:00|                        0|                       0|                         1|                        0|                            0|                           0|                        1|                       0|     70943|SPORT UTILITY / S...|   PASSENGER VEHICLE|   PASSENGER VEHICLE|   PASSENGER VEHICLE|   PASSENGER VEHICLE|     2013|         2|       2013-02|           Mon|         0.0|\n",
            "+---------+-----------------------------+-----------------------------+-----------------------------+-----------------------------+-----------------------------+--------------------+-------------------+-------------------------+------------------------+--------------------------+-------------------------+-----------------------------+----------------------------+-------------------------+------------------------+----------+--------------------+--------------------+--------------------+--------------------+--------------------+---------+----------+--------------+--------------+------------+\n",
            "only showing top 20 rows\n",
            "\n"
          ]
        }
      ]
    },
    {
      "cell_type": "code",
      "source": [
        "sparks_df_TPI = spark_df.groupby('time_year').sum(\"number_of_persons_injured\").toPandas()\n",
        "sparks_df_TPI\n",
        "# Set up a Matplotlib figure\n",
        "fig = plt.figure(facecolor='white')\n",
        "# Bar Plot of borough and count\n",
        "plt.bar(sparks_df_TPI['time_year'],sparks_df_TPI['sum(number_of_persons_injured)'] )\n",
        "# Add a title\n",
        "plt.title(\"Total of People Injured vs. Years\")"
      ],
      "metadata": {
        "colab": {
          "base_uri": "https://localhost:8080/",
          "height": 469
        },
        "id": "BUdv-WzYCIgH",
        "outputId": "2a9ed8b5-41a9-4014-d149-d6e8661354da"
      },
      "execution_count": null,
      "outputs": [
        {
          "output_type": "execute_result",
          "data": {
            "text/plain": [
              "Text(0.5, 1.0, 'Total of People Injured vs. Years')"
            ]
          },
          "metadata": {},
          "execution_count": 105
        },
        {
          "output_type": "display_data",
          "data": {
            "text/plain": [
              "<Figure size 640x480 with 1 Axes>"
            ],
            "image/png": "[encoded data removed]"
          },
          "metadata": {}
        }
      ]
    },
    {
      "cell_type": "code",
      "source": [
        "# Set \"time_year\" column as the index\n",
        "sparks_df_TPI.set_index(\"time_year\", inplace=True)"
      ],
      "metadata": {
        "id": "AqUcgEMnLju_"
      },
      "execution_count": null,
      "outputs": []
    },
    {
      "cell_type": "code",
      "source": [
        "from sklearn.linear_model import LinearRegression\n",
        "import numpy as np\n",
        "\n",
        "# Prepare the data for linear regression\n",
        "X = sparks_df_TPI.index.values.reshape(-1, 1)  # Assuming the index represents the years\n",
        "y = sparks_df_TPI['sum(number_of_persons_injured)'].values\n",
        "\n",
        "# Create and train the linear regression model\n",
        "model = LinearRegression()\n",
        "model.fit(X, y)\n",
        "\n",
        "# Predict future values (e.g., next 5 years)\n",
        "future_years = np.array([sparks_df_TPI.index.max() + i for i in range(1, 11)]).reshape(-1, 1)\n",
        "predictions = model.predict(future_years)\n",
        "\n",
        "# Plot the original data and the prediction\n",
        "plt.figure(facecolor='white')\n",
        "\n",
        "# Plot original data\n",
        "plt.bar(sparks_df_TPI.index, sparks_df_TPI['sum(number_of_persons_injured)'], color='blue', label='Actual Data')\n",
        "\n",
        "# Plot predictions\n",
        "plt.plot(future_years, predictions, color='red', marker='o', linestyle='dashed', linewidth=2, markersize=8, label='Predicted Data')\n",
        "\n",
        "# Add titles and labels\n",
        "plt.title(\"Total People Injured vs. Years with Prediction\")\n",
        "plt.xlabel(\"Year\")\n",
        "plt.ylabel(\"Total People Injured\")\n",
        "plt.legend()\n",
        "\n",
        "plt.show()\n",
        "\n",
        "# Display the predicted values\n",
        "predicted_df = pd.DataFrame({\"Year\": future_years.flatten(), \"Predicted_People_Injured\": predictions})\n",
        "print(predicted_df)\n"
      ],
      "metadata": {
        "colab": {
          "base_uri": "https://localhost:8080/",
          "height": 663
        },
        "id": "3Y2jePt6GEV3",
        "outputId": "b7640e07-e65f-42a0-be9a-a573169b9a6e"
      },
      "execution_count": null,
      "outputs": [
        {
          "output_type": "display_data",
          "data": {
            "text/plain": [
              "<Figure size 640x480 with 1 Axes>"
            ],
            "image/png": "[encoded data removed]"
          },
          "metadata": {}
        },
        {
          "output_type": "stream",
          "name": "stdout",
          "text": [
            "   Year  Predicted_People_Injured\n",
            "0  2025                211.346154\n",
            "1  2026                197.362637\n",
            "2  2027                183.379121\n",
            "3  2028                169.395604\n",
            "4  2029                155.412088\n",
            "5  2030                141.428571\n",
            "6  2031                127.445055\n",
            "7  2032                113.461538\n",
            "8  2033                 99.478022\n",
            "9  2034                 85.494505\n"
          ]
        }
      ]
    },
    {
      "cell_type": "code",
      "source": [
        "# Save the plot to Google Cloud Storage\n",
        "import io\n",
        "from google.cloud import storage"
      ],
      "metadata": {
        "id": "k_9Z-eZwK2WP"
      },
      "execution_count": null,
      "outputs": []
    },
    {
      "cell_type": "code",
      "source": [
        "# Create a buffer to hold the figure\n",
        "img_data = io.BytesIO()\n",
        "# Write the figure to the img_data buffer\n",
        "fig.get_figure().savefig(img_data, format='png', bbox_inches='tight')\n",
        "# Rewind the pointer to the start of the data\n",
        "img_data.seek(0)\n",
        "\n",
        "# Connect to Google Cloud Storage\n",
        "storage_client = storage.Client()\n",
        "# Point to the bucket on Google Cloud Storage (change this to match the name of your bucket)\n",
        "bucket = storage_client.get_bucket('my-project-bucket-bc')\n",
        "\n",
        "folder_path = 'models'\n",
        "file_name = \"Total People Injured vs. Years with Prediction.png\"\n",
        "# Create a blob to hold the data. Give it a file name with the folder path included\n",
        "blob = bucket.blob(f'{folder_path}/{file_name}')\n",
        "\n",
        "# Upload the img_data contents to the blob\n",
        "blob.upload_from_file(img_data)"
      ],
      "metadata": {
        "id": "2yUZDO5_Kswn"
      },
      "execution_count": null,
      "outputs": []
    },
    {
      "cell_type": "code",
      "source": [
        "sparks_df_TMPI = spark_df.groupby('time_month').sum(\"number_of_persons_injured\").toPandas()\n",
        "sparks_df_TMPI\n",
        "# Set up a Matplotlib figure\n",
        "fig = plt.figure(facecolor='white')\n",
        "# Bar Plot of borough and count\n",
        "plt.bar(sparks_df_TMPI['time_month'],sparks_df_TMPI['sum(number_of_persons_injured)'] )\n",
        "# Add a title\n",
        "plt.title(\"Total of People Injured vs. Month\")"
      ],
      "metadata": {
        "colab": {
          "base_uri": "https://localhost:8080/",
          "height": 469
        },
        "id": "mCA4VjYGK9NY",
        "outputId": "4e861b6a-df7e-488c-e713-0a5bddf4b3ec"
      },
      "execution_count": null,
      "outputs": [
        {
          "output_type": "execute_result",
          "data": {
            "text/plain": [
              "Text(0.5, 1.0, 'Total of People Injured vs. Month')"
            ]
          },
          "metadata": {},
          "execution_count": 108
        },
        {
          "output_type": "display_data",
          "data": {
            "text/plain": [
              "<Figure size 640x480 with 1 Axes>"
            ],
            "image/png": "[encoded data removed]"
          },
          "metadata": {}
        }
      ]
    }
  ]
}